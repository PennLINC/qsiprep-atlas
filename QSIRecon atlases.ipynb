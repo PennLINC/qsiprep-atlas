{
 "cells": [
  {
   "cell_type": "markdown",
   "id": "5b95a0e5",
   "metadata": {},
   "source": [
    "# Harmonizing the QSIPrep cortical/subcortical atlases\n",
    "\n",
    "As of version 0.15.4 QSIPrep comes with a bunch of atlases that were more or less copied from their original repositories. The only strictly-enforced change to these atlases was that they were in LPS+ voxel orientation to match all other QSIPrep output files. \n",
    "\n",
    "There are some other annoying differences across the atlases, such as whether they are in MNI2009cAsym (the actual registration template) or FSLMNI (aka NLin6Asym) space and whether they cover the whole of gray matter (including subcortical and cerebellum). \n",
    "\n",
    "## Categorizing the pre 0.16 atlases\n",
    "\n",
    "First, download the atlas directory that has been distributed with qsiprep since ~0.8:"
   ]
  },
  {
   "cell_type": "code",
   "execution_count": 1,
   "id": "e5ecd0b0",
   "metadata": {},
   "outputs": [
    {
     "name": "stderr",
     "output_type": "stream",
     "text": [
      "2022-06-01 10:25:24 URL:https://dl2.boxcloud.com/d/1/b1!SmzgLVCGSQeXTphH386fcLmSXOK5vNzgbyrS3KaeKG2p0kt7JQE1_r5cRREFfUcpPeMksFN40iadBHHCZh4Tf6xOEnKEUn9XydgZdUCisxgG3LN882hZEysJO9muLWtoewTQM7fkhPNwDWUUcS2UHwTdWC4WqDB1Ef6yE8jFrZ59V-JSjhqki6755hzJrrE8rNDcwa8KqvaqJNHSwOizCEn2UZ8UqCeNYxIXYDVx8UI4GoYSYvLxoJ5-Z-qETmoruSBQJg1ydCkSduCOq4rd-Qsdcr2CcxGhju14jp1y0oCIJRY3NdyLmpjYkfG3TvPm3uLTe2cWpQLbzj8DioagPzXNNcCWqgbuV1ysOOUsLWfwkBxV56mIPn1bdzq0O3L4-CyWYvsA2rmNVBpzcv574eiWMs-mpReUprzjcbswegFIlUyFSbpHNzPzQb0IT9v9584-nqa-sLe01hdC6oARTXU1dfqM2hASVMF3IdcITFQM0kcjN1VTUVXlQZE3zs1rVeFYZ62N9c4yt7w72eH5btMhJTZ7b2qQmL62NsRyqZfZlLatDrU3u2k4HV7Uc3lk4-sM9tBbqeLDylQA98gOS13OZpc-muINXoZs5gIt_W4ogFSAXFIbKwQFZKVio-JrHY9yKvM6OZlAuu1gZ6TBhPps3_dqze9VVQPE_p_RjK_j53DyOBAt4piYP1TVyPO4BIiB4_eYVnF8NZM-8jTDHzxP0mvCboT3KrmfFGtQkplkHbJVDneDQM3wmhBQzkSD9iAO0nv3-T7KgE-XDHtsNIb0nw0hP4kMk1JypMufHCw8FA6RbR048sZ7VwRJ47SoEE1aAGlGyFxT04rAbi2-xfUL4UsH01Iv1mBk35wFPsI69X0uLEafJjF6GYXUfUNS8_WKo1ZPWH8UMdM2jdmv3q3OobazanfA4s9fKwwWjF-pqf0NVOM3LcBHTn2Q6ZWcIXOaiLPt2f7zMKZENi90PldL7HCZOuTvxH-2wsaHAqKDuaD6Q-Yc3E3Klvylw-16qbN591whCbv60TSyjkGDSM0qWhL8JnX0IDHNhm7934-YcQbiqvhkO7oadFFuSduM6I6JwthG1nzlRqA5Q2c7Y2XdTvL6wWs9jNC-H7bPC4glqA8kPW3LSS2xO-JzEIW4-oE3S1sLJy4u1sBNM06ZD4YbY1T8PMrVmqBTFkKf5y4Hr4eWYQMtJkzJ0ElaMcQQfKrtox9LKBGUzfckdRo5AnZm3EYBSHR_rkWIcon9vpjpffQHb1zJ15VUMLStxzJS2F8tjfLxW10DjUn8hijuB2mD0WmJ9g0fVDsqDtM00R6ZV03Uu_oxQ_MVAYAEFFYsesZQoUFdGKVjuFSMJxb1LZZo07wdSpcmYqGH1599EYNYTkGDd0P6RtSi-bzyB-X5OjDJNBRZu8yEYJUpUILARPAhHicnKj4bD5xT67A2NrYDCspHARwe/download [2008924/2008924] -> \"8k17yt2rfeqm3emzol5sa0j9fh3dhs0i.xz\" [1]\n",
      "x qsirecon_atlases/\n",
      "x qsirecon_atlases/gordon333MNI_lps_mni.nii.gz\n",
      "x qsirecon_atlases/schaefer100MNI_lps_mni.nii.gz\n",
      "x qsirecon_atlases/power264MNI_lps_mni.nii.gz\n",
      "x qsirecon_atlases/schaefer200MNI_lps_mni.nii.gz\n",
      "x qsirecon_atlases/schaefer100x17MNI_lps.nii.gz\n",
      "x qsirecon_atlases/schaefer400MNI_lps_mni.nii.gz\n",
      "x qsirecon_atlases/schaefer200x17MNI_lps.nii.gz\n",
      "x qsirecon_atlases/brainnetome246MNI_lps.nii.gz\n",
      "x qsirecon_atlases/aal116MNI_lps_mni.nii.gz\n",
      "x qsirecon_atlases/schaefer400x17MNI_lps.nii.gz\n",
      "x qsirecon_atlases/aicha384MNI_lps.nii.gz\n",
      "x qsirecon_atlases/schaefer200x7MNI_lps.nii.gz\n",
      "x qsirecon_atlases/atlas_config.json\n",
      "x qsirecon_atlases/schaefer100x7MNI_lps.nii.gz\n",
      "x qsirecon_atlases/schaefer400x7MNI_lps.nii.gz\n"
     ]
    }
   ],
   "source": [
    "%%bash\n",
    "\n",
    "wget -nv https://upenn.box.com/shared/static/8k17yt2rfeqm3emzol5sa0j9fh3dhs0i.xz\n",
    "tar xvfJm 8k17yt2rfeqm3emzol5sa0j9fh3dhs0i.xz\n",
    "rm 8k17yt2rfeqm3emzol5sa0j9fh3dhs0i.xz"
   ]
  },
  {
   "cell_type": "markdown",
   "id": "197f96b7",
   "metadata": {},
   "source": [
    "## What are these atlases?\n",
    "\n",
    "For reference, here is a table that describes the space of these atlases and how they appear on the brain:\n",
    "\n",
    "\n",
    "| Atlas Name     | MNI Version                | Subcortical | Cerebellum | Thick   |\n",
    "| :------------: | :------------------------: | :---------: | :--------: | :-----: |\n",
    "|     AAL116     |           NLin6            |     Yes     |    Yes     |   Yes   |\n",
    "|    Aicha384    |           NLin6            |     Yes     |     No     |   Yes   |\n",
    "| Brainnetome246 |           NLin6            |     Yes     |     No     |   No    |\n",
    "|   Gordon333    |           NLin6            |     No      |     No     |   NOO   |\n",
    "|    power264    |           NLin6            |     Yes     |    Yes     | Spheres |\n",
    "|    Schaefer    |           NLin6            |     No      |     No     |   No    |\n",
    "\n",
    "\n",
    "## Harmonizing them\n",
    "\n",
    "I cloned templateflow to get some of the transforms from NLin6Asym to 2009cAsym so that these can all be transformed to the exact MNI version that the T1ws are registered to. We also want to add subcortical + cerebellar regions to these atlases."
   ]
  },
  {
   "cell_type": "code",
   "execution_count": 2,
   "id": "69a264d7",
   "metadata": {},
   "outputs": [],
   "source": [
    "# \n",
    "import subprocess\n",
    "tfbase = \"/Users/mcieslak/projects/templateflow\"\n",
    "reference_image = \"/Users/mcieslak/projects/qsiprep/qsiprep/data/mni_1mm_t1w_lps_brain.nii.gz\"\n",
    "transform_image = tfbase + \"/tpl-MNI152NLin2009cAsym/tpl-MNI152NLin2009cAsym_from-MNI152NLin6Asym_mode-image_xfm.h5\"\n",
    "\n",
    "def nlin6_to_2009c(nlin6_atlas, new_fname):\n",
    "    subprocess.run([\n",
    "        \"antsApplyTransforms\", \"-d\", \"3\", \"-i\", nlin6_atlas, \"-o\", new_fname,\n",
    "        \"-t\", transform_image, \"-r\", reference_image, \"--interpolation\", \"GenericLabel\",\n",
    "        \"-v\"\n",
    "    ])\n"
   ]
  },
  {
   "cell_type": "markdown",
   "id": "cd85dbe7",
   "metadata": {},
   "source": [
    "## Subcortical regions\n",
    "\n",
    "We used the CTI168 atlas for subcortical regions and https://zenodo.org/record/1405484 for thalamus.\n",
    "\n",
    "\n",
    "## Cerebellar regions\n",
    "\n",
    "We downloaded the cerebellar atlas from https://github.com/DiedrichsenLab/cerebellar_atlases/blob/master/King_2019/atl-MDTB10_space-MNI_dseg.nii. This atlas is in NLin6 space and the shasum of the repository was  fd12c94."
   ]
  },
  {
   "cell_type": "code",
   "execution_count": 3,
   "id": "2fad24a4",
   "metadata": {},
   "outputs": [
    {
     "name": "stdout",
     "output_type": "stream",
     "text": [
      "Using double precision for computations.\n",
      "Input scalar image: qsirecon_atlases/gordon333MNI_lps_mni.nii.gz\n",
      "Reference image: /Users/mcieslak/projects/qsiprep/qsiprep/data/mni_1mm_t1w_lps_brain.nii.gz\n",
      "=============================================================================\n",
      "The composite transform comprises the following transforms (in order): \n",
      "  1. /Users/mcieslak/projects/templateflow/tpl-MNI152NLin2009cAsym/tpl-MNI152NLin2009cAsym_from-MNI152NLin6Asym_mode-image_xfm.h5[0] (type = AffineTransform)\n",
      "  2. /Users/mcieslak/projects/templateflow/tpl-MNI152NLin2009cAsym/tpl-MNI152NLin2009cAsym_from-MNI152NLin6Asym_mode-image_xfm.h5[1] (type = DisplacementFieldTransform)\n",
      "=============================================================================\n",
      "Default pixel value: 0\n",
      "Interpolation type: LabelImageGenericInterpolateImageFunction\n",
      "Output warped image: data/2009cAsym/tpl-MNI152NLin2009cAsym_res-01_atlas-Gordon333_desc-LPS_dseg.nii.gz\n",
      "Using double precision for computations.\n",
      "Input scalar image: qsirecon_atlases/brainnetome246MNI_lps.nii.gz\n",
      "Reference image: /Users/mcieslak/projects/qsiprep/qsiprep/data/mni_1mm_t1w_lps_brain.nii.gz\n",
      "=============================================================================\n",
      "The composite transform comprises the following transforms (in order): \n",
      "  1. /Users/mcieslak/projects/templateflow/tpl-MNI152NLin2009cAsym/tpl-MNI152NLin2009cAsym_from-MNI152NLin6Asym_mode-image_xfm.h5[0] (type = AffineTransform)\n",
      "  2. /Users/mcieslak/projects/templateflow/tpl-MNI152NLin2009cAsym/tpl-MNI152NLin2009cAsym_from-MNI152NLin6Asym_mode-image_xfm.h5[1] (type = DisplacementFieldTransform)\n",
      "=============================================================================\n",
      "Default pixel value: 0\n",
      "Interpolation type: LabelImageGenericInterpolateImageFunction\n",
      "Output warped image: data/2009cAsym/tpl-MNI152NLin2009cAsym_res-01_atlas-Brainnetome246_desc-LPS_dseg.nii.gz\n",
      "Using double precision for computations.\n",
      "Input scalar image: qsirecon_atlases/aal116MNI_lps_mni.nii.gz\n",
      "Reference image: /Users/mcieslak/projects/qsiprep/qsiprep/data/mni_1mm_t1w_lps_brain.nii.gz\n",
      "=============================================================================\n",
      "The composite transform comprises the following transforms (in order): \n",
      "  1. /Users/mcieslak/projects/templateflow/tpl-MNI152NLin2009cAsym/tpl-MNI152NLin2009cAsym_from-MNI152NLin6Asym_mode-image_xfm.h5[0] (type = AffineTransform)\n",
      "  2. /Users/mcieslak/projects/templateflow/tpl-MNI152NLin2009cAsym/tpl-MNI152NLin2009cAsym_from-MNI152NLin6Asym_mode-image_xfm.h5[1] (type = DisplacementFieldTransform)\n",
      "=============================================================================\n",
      "Default pixel value: 0\n",
      "Interpolation type: LabelImageGenericInterpolateImageFunction\n",
      "Output warped image: data/2009cAsym/tpl-MNI152NLin2009cAsym_res-01_atlas-AAL116_desc-LPS_dseg.nii.gz\n",
      "Using double precision for computations.\n",
      "Input scalar image: qsirecon_atlases/aicha384MNI_lps.nii.gz\n",
      "Reference image: /Users/mcieslak/projects/qsiprep/qsiprep/data/mni_1mm_t1w_lps_brain.nii.gz\n",
      "=============================================================================\n",
      "The composite transform comprises the following transforms (in order): \n",
      "  1. /Users/mcieslak/projects/templateflow/tpl-MNI152NLin2009cAsym/tpl-MNI152NLin2009cAsym_from-MNI152NLin6Asym_mode-image_xfm.h5[0] (type = AffineTransform)\n",
      "  2. /Users/mcieslak/projects/templateflow/tpl-MNI152NLin2009cAsym/tpl-MNI152NLin2009cAsym_from-MNI152NLin6Asym_mode-image_xfm.h5[1] (type = DisplacementFieldTransform)\n",
      "=============================================================================\n",
      "Default pixel value: 0\n",
      "Interpolation type: LabelImageGenericInterpolateImageFunction\n",
      "Output warped image: data/2009cAsym/tpl-MNI152NLin2009cAsym_res-01_atlas-AICHA384_desc-LPS_dseg.nii.gz\n",
      "Using double precision for computations.\n",
      "Input scalar image: qsirecon_atlases/schaefer100x7MNI_lps.nii.gz\n",
      "Reference image: /Users/mcieslak/projects/qsiprep/qsiprep/data/mni_1mm_t1w_lps_brain.nii.gz\n",
      "=============================================================================\n",
      "The composite transform comprises the following transforms (in order): \n",
      "  1. /Users/mcieslak/projects/templateflow/tpl-MNI152NLin2009cAsym/tpl-MNI152NLin2009cAsym_from-MNI152NLin6Asym_mode-image_xfm.h5[0] (type = AffineTransform)\n",
      "  2. /Users/mcieslak/projects/templateflow/tpl-MNI152NLin2009cAsym/tpl-MNI152NLin2009cAsym_from-MNI152NLin6Asym_mode-image_xfm.h5[1] (type = DisplacementFieldTransform)\n",
      "=============================================================================\n",
      "Default pixel value: 0\n",
      "Interpolation type: LabelImageGenericInterpolateImageFunction\n",
      "Output warped image: data/2009cAsym/tpl-MNI152NLin2009cAsym_res-01_atlas-Schaefer2018_desc-100Parcels7NetworksLPS_dseg.nii.gz\n",
      "Using double precision for computations.\n",
      "Input scalar image: qsirecon_atlases/schaefer100x17MNI_lps.nii.gz\n",
      "Reference image: /Users/mcieslak/projects/qsiprep/qsiprep/data/mni_1mm_t1w_lps_brain.nii.gz\n",
      "=============================================================================\n",
      "The composite transform comprises the following transforms (in order): \n",
      "  1. /Users/mcieslak/projects/templateflow/tpl-MNI152NLin2009cAsym/tpl-MNI152NLin2009cAsym_from-MNI152NLin6Asym_mode-image_xfm.h5[0] (type = AffineTransform)\n",
      "  2. /Users/mcieslak/projects/templateflow/tpl-MNI152NLin2009cAsym/tpl-MNI152NLin2009cAsym_from-MNI152NLin6Asym_mode-image_xfm.h5[1] (type = DisplacementFieldTransform)\n",
      "=============================================================================\n",
      "Default pixel value: 0\n",
      "Interpolation type: LabelImageGenericInterpolateImageFunction\n",
      "Output warped image: data/2009cAsym/tpl-MNI152NLin2009cAsym_res-01_atlas-Schaefer2018_desc-100Parcels17NetworksLPS_dseg.nii.gz\n",
      "Using double precision for computations.\n",
      "Input scalar image: qsirecon_atlases/schaefer200x7MNI_lps.nii.gz\n",
      "Reference image: /Users/mcieslak/projects/qsiprep/qsiprep/data/mni_1mm_t1w_lps_brain.nii.gz\n",
      "=============================================================================\n",
      "The composite transform comprises the following transforms (in order): \n",
      "  1. /Users/mcieslak/projects/templateflow/tpl-MNI152NLin2009cAsym/tpl-MNI152NLin2009cAsym_from-MNI152NLin6Asym_mode-image_xfm.h5[0] (type = AffineTransform)\n",
      "  2. /Users/mcieslak/projects/templateflow/tpl-MNI152NLin2009cAsym/tpl-MNI152NLin2009cAsym_from-MNI152NLin6Asym_mode-image_xfm.h5[1] (type = DisplacementFieldTransform)\n",
      "=============================================================================\n",
      "Default pixel value: 0\n",
      "Interpolation type: LabelImageGenericInterpolateImageFunction\n",
      "Output warped image: data/2009cAsym/tpl-MNI152NLin2009cAsym_res-01_atlas-Schaefer2018_desc-200Parcels7NetworksLPS_dseg.nii.gz\n",
      "Using double precision for computations.\n",
      "Input scalar image: qsirecon_atlases/schaefer200x17MNI_lps.nii.gz\n",
      "Reference image: /Users/mcieslak/projects/qsiprep/qsiprep/data/mni_1mm_t1w_lps_brain.nii.gz\n",
      "=============================================================================\n",
      "The composite transform comprises the following transforms (in order): \n",
      "  1. /Users/mcieslak/projects/templateflow/tpl-MNI152NLin2009cAsym/tpl-MNI152NLin2009cAsym_from-MNI152NLin6Asym_mode-image_xfm.h5[0] (type = AffineTransform)\n",
      "  2. /Users/mcieslak/projects/templateflow/tpl-MNI152NLin2009cAsym/tpl-MNI152NLin2009cAsym_from-MNI152NLin6Asym_mode-image_xfm.h5[1] (type = DisplacementFieldTransform)\n",
      "=============================================================================\n",
      "Default pixel value: 0\n",
      "Interpolation type: LabelImageGenericInterpolateImageFunction\n",
      "Output warped image: data/2009cAsym/tpl-MNI152NLin2009cAsym_res-01_atlas-Schaefer2018_desc-200Parcels17NetworksLPS_dseg.nii.gz\n",
      "Using double precision for computations.\n",
      "Input scalar image: qsirecon_atlases/schaefer400x7MNI_lps.nii.gz\n",
      "Reference image: /Users/mcieslak/projects/qsiprep/qsiprep/data/mni_1mm_t1w_lps_brain.nii.gz\n",
      "=============================================================================\n",
      "The composite transform comprises the following transforms (in order): \n",
      "  1. /Users/mcieslak/projects/templateflow/tpl-MNI152NLin2009cAsym/tpl-MNI152NLin2009cAsym_from-MNI152NLin6Asym_mode-image_xfm.h5[0] (type = AffineTransform)\n",
      "  2. /Users/mcieslak/projects/templateflow/tpl-MNI152NLin2009cAsym/tpl-MNI152NLin2009cAsym_from-MNI152NLin6Asym_mode-image_xfm.h5[1] (type = DisplacementFieldTransform)\n",
      "=============================================================================\n",
      "Default pixel value: 0\n",
      "Interpolation type: LabelImageGenericInterpolateImageFunction\n"
     ]
    },
    {
     "name": "stdout",
     "output_type": "stream",
     "text": [
      "Output warped image: data/2009cAsym/tpl-MNI152NLin2009cAsym_res-01_atlas-Schaefer2018_desc-400Parcels7NetworksLPS_dseg.nii.gz\n",
      "Using double precision for computations.\n",
      "Input scalar image: qsirecon_atlases/schaefer400x17MNI_lps.nii.gz\n",
      "Reference image: /Users/mcieslak/projects/qsiprep/qsiprep/data/mni_1mm_t1w_lps_brain.nii.gz\n",
      "=============================================================================\n",
      "The composite transform comprises the following transforms (in order): \n",
      "  1. /Users/mcieslak/projects/templateflow/tpl-MNI152NLin2009cAsym/tpl-MNI152NLin2009cAsym_from-MNI152NLin6Asym_mode-image_xfm.h5[0] (type = AffineTransform)\n",
      "  2. /Users/mcieslak/projects/templateflow/tpl-MNI152NLin2009cAsym/tpl-MNI152NLin2009cAsym_from-MNI152NLin6Asym_mode-image_xfm.h5[1] (type = DisplacementFieldTransform)\n",
      "=============================================================================\n",
      "Default pixel value: 0\n",
      "Interpolation type: LabelImageGenericInterpolateImageFunction\n",
      "Output warped image: data/2009cAsym/tpl-MNI152NLin2009cAsym_res-01_atlas-Schaefer2018_desc-400Parcels17NetworksLPS_dseg.nii.gz\n",
      "Using double precision for computations.\n",
      "Input scalar image: data/NLin6Asym/atl-MDTB10_space-MNI_dseg.nii\n",
      "Reference image: /Users/mcieslak/projects/qsiprep/qsiprep/data/mni_1mm_t1w_lps_brain.nii.gz\n",
      "=============================================================================\n",
      "The composite transform comprises the following transforms (in order): \n",
      "  1. /Users/mcieslak/projects/templateflow/tpl-MNI152NLin2009cAsym/tpl-MNI152NLin2009cAsym_from-MNI152NLin6Asym_mode-image_xfm.h5[0] (type = AffineTransform)\n",
      "  2. /Users/mcieslak/projects/templateflow/tpl-MNI152NLin2009cAsym/tpl-MNI152NLin2009cAsym_from-MNI152NLin6Asym_mode-image_xfm.h5[1] (type = DisplacementFieldTransform)\n",
      "=============================================================================\n",
      "Default pixel value: 0\n",
      "Interpolation type: LabelImageGenericInterpolateImageFunction\n",
      "Output warped image: data/2009cAsym/tpl-MNI152NLin2009cAsym_res-01_atlas-MDTB10_desc-LPS_dseg.nii.gz\n",
      "Using double precision for computations.\n",
      "Input scalar image: data/NLin6Asym/Thalamus_Nuclei-HCP-MaxProb.nii.gz\n",
      "Reference image: /Users/mcieslak/projects/qsiprep/qsiprep/data/mni_1mm_t1w_lps_brain.nii.gz\n",
      "=============================================================================\n",
      "The composite transform comprises the following transforms (in order): \n",
      "  1. /Users/mcieslak/projects/templateflow/tpl-MNI152NLin2009cAsym/tpl-MNI152NLin2009cAsym_from-MNI152NLin6Asym_mode-image_xfm.h5[0] (type = AffineTransform)\n",
      "  2. /Users/mcieslak/projects/templateflow/tpl-MNI152NLin2009cAsym/tpl-MNI152NLin2009cAsym_from-MNI152NLin6Asym_mode-image_xfm.h5[1] (type = DisplacementFieldTransform)\n",
      "=============================================================================\n",
      "Default pixel value: 0\n",
      "Interpolation type: LabelImageGenericInterpolateImageFunction\n",
      "Output warped image: data/2009cAsym/tpl-MNI152NLin2009cAsym_res-01_atlas-ThalamusHCP_desc-LPS_dseg.nii.gz\n"
     ]
    }
   ],
   "source": [
    "needs_transform = [\n",
    "    # Atlases from early qsiprep\n",
    "    ('qsirecon_atlases/gordon333MNI_lps_mni.nii.gz', \n",
    "     'data/2009cAsym/tpl-MNI152NLin2009cAsym_res-01_atlas-Gordon333_desc-LPS_dseg.nii.gz'),\n",
    "    ('qsirecon_atlases/brainnetome246MNI_lps.nii.gz', \n",
    "     'data/2009cAsym/tpl-MNI152NLin2009cAsym_res-01_atlas-Brainnetome246_desc-LPS_dseg.nii.gz'),\n",
    "    ('qsirecon_atlases/aal116MNI_lps_mni.nii.gz', \n",
    "     'data/2009cAsym/tpl-MNI152NLin2009cAsym_res-01_atlas-AAL116_desc-LPS_dseg.nii.gz'),\n",
    "    ('qsirecon_atlases/aicha384MNI_lps.nii.gz', \n",
    "     'data/2009cAsym/tpl-MNI152NLin2009cAsym_res-01_atlas-AICHA384_desc-LPS_dseg.nii.gz'),\n",
    "\n",
    "    ('qsirecon_atlases/schaefer100x7MNI_lps.nii.gz',\n",
    "     'data/2009cAsym/tpl-MNI152NLin2009cAsym_res-01_atlas-Schaefer2018_desc-100Parcels7NetworksLPS_dseg.nii.gz'),\n",
    "    ('qsirecon_atlases/schaefer100x17MNI_lps.nii.gz',\n",
    "     'data/2009cAsym/tpl-MNI152NLin2009cAsym_res-01_atlas-Schaefer2018_desc-100Parcels17NetworksLPS_dseg.nii.gz'),\n",
    "\n",
    "    ('qsirecon_atlases/schaefer200x7MNI_lps.nii.gz',\n",
    "     'data/2009cAsym/tpl-MNI152NLin2009cAsym_res-01_atlas-Schaefer2018_desc-200Parcels7NetworksLPS_dseg.nii.gz'),\n",
    "    ('qsirecon_atlases/schaefer200x17MNI_lps.nii.gz',\n",
    "     'data/2009cAsym/tpl-MNI152NLin2009cAsym_res-01_atlas-Schaefer2018_desc-200Parcels17NetworksLPS_dseg.nii.gz'),\n",
    "\n",
    "    ('qsirecon_atlases/schaefer400x7MNI_lps.nii.gz',\n",
    "     'data/2009cAsym/tpl-MNI152NLin2009cAsym_res-01_atlas-Schaefer2018_desc-400Parcels7NetworksLPS_dseg.nii.gz'),\n",
    "    ('qsirecon_atlases/schaefer400x17MNI_lps.nii.gz',\n",
    "     'data/2009cAsym/tpl-MNI152NLin2009cAsym_res-01_atlas-Schaefer2018_desc-400Parcels17NetworksLPS_dseg.nii.gz'),\n",
    "\n",
    "    # New image\n",
    "    ('data/NLin6Asym/atl-MDTB10_space-MNI_dseg.nii', \n",
    "     'data/2009cAsym/tpl-MNI152NLin2009cAsym_res-01_atlas-MDTB10_desc-LPS_dseg.nii.gz'),\n",
    "    \n",
    "    # Thalamus parcellation\n",
    "    ('data/NLin6Asym/Thalamus_Nuclei-HCP-MaxProb.nii.gz',\n",
    "     'data/2009cAsym/tpl-MNI152NLin2009cAsym_res-01_atlas-ThalamusHCP_desc-LPS_dseg.nii.gz')\n",
    "]\n",
    "\n",
    "for source_img, dest_img in needs_transform:\n",
    "    nlin6_to_2009c(source_img, dest_img)"
   ]
  },
  {
   "cell_type": "markdown",
   "id": "ab6e6cd9",
   "metadata": {},
   "source": [
    "We just need to change the orientation on the subcortical atlases. "
   ]
  },
  {
   "cell_type": "code",
   "execution_count": 4,
   "id": "a005ec94",
   "metadata": {},
   "outputs": [],
   "source": [
    "%%bash\n",
    "3dresample -orient RAI \\\n",
    "    -overwrite \\\n",
    "    -inset data/2009cAsym/CIT168toMNI152-2009c_det.nii.gz \\\n",
    "    -prefix data/2009cAsym/tpl-MNI152NLin2009cAsym_res-01_atlas-CIT168_desc-LPS_dseg.nii.gz"
   ]
  },
  {
   "cell_type": "markdown",
   "id": "14f25db7",
   "metadata": {},
   "source": [
    "## Check that they're all in exactly the same voxel grid\n",
    "\n",
    "We need to be certain that the voxel grids are exactly the same so we can start swapping in the cerebellum and subcortical regions"
   ]
  },
  {
   "cell_type": "code",
   "execution_count": 5,
   "id": "cfbfc2df",
   "metadata": {},
   "outputs": [
    {
     "name": "stdout",
     "output_type": "stream",
     "text": [
      "checking files:\n",
      "data/2009cAsym/tpl-MNI152NLin2009cAsym_res-01_atlas-AAL116_desc-LPS_dseg.nii.gz\n",
      "data/2009cAsym/tpl-MNI152NLin2009cAsym_res-01_atlas-AICHA384_desc-LPS_dseg.nii.gz\n",
      "data/2009cAsym/tpl-MNI152NLin2009cAsym_res-01_atlas-Brainnetome246_desc-LPS_dseg.nii.gz\n",
      "data/2009cAsym/tpl-MNI152NLin2009cAsym_res-01_atlas-CIT168_desc-LPS_dseg.nii.gz\n",
      "data/2009cAsym/tpl-MNI152NLin2009cAsym_res-01_atlas-CoBrALabSubCortical_desc-LPS_dseg.nii.gz\n",
      "data/2009cAsym/tpl-MNI152NLin2009cAsym_res-01_atlas-Gordon333_desc-LPS_dseg.nii.gz\n",
      "data/2009cAsym/tpl-MNI152NLin2009cAsym_res-01_atlas-Schaefer2018_desc-100Parcels17NetworksLPS_dseg.nii.gz\n",
      "data/2009cAsym/tpl-MNI152NLin2009cAsym_res-01_atlas-Schaefer2018_desc-100Parcels7NetworksLPS_dseg.nii.gz\n",
      "data/2009cAsym/tpl-MNI152NLin2009cAsym_res-01_atlas-Schaefer2018_desc-200Parcels17NetworksLPS_dseg.nii.gz\n",
      "data/2009cAsym/tpl-MNI152NLin2009cAsym_res-01_atlas-Schaefer2018_desc-200Parcels7NetworksLPS_dseg.nii.gz\n",
      "data/2009cAsym/tpl-MNI152NLin2009cAsym_res-01_atlas-Schaefer2018_desc-400Parcels17NetworksLPS_dseg.nii.gz\n",
      "data/2009cAsym/tpl-MNI152NLin2009cAsym_res-01_atlas-Schaefer2018_desc-400Parcels7NetworksLPS_dseg.nii.gz\n",
      "data/2009cAsym/tpl-MNI152NLin2009cAsym_res-01_atlas-ThalamusHCP_desc-LPS_dseg.nii.gz\n",
      "\n",
      "comparing grids:\n",
      "All grids match orientation and shape!!\n"
     ]
    }
   ],
   "source": [
    "from glob import glob\n",
    "import nibabel as nb\n",
    "import numpy as np\n",
    "\n",
    "print(\"checking files:\")\n",
    "atlas_files = [fname for fname in sorted(glob(\"data/2009cAsym/*LPS*gz\")) \n",
    "               if (\"MDT\" not in fname) and (\"CoBra\" not in fname)]\n",
    "print(\"\\n\".join(atlas_files))\n",
    "\n",
    "print(\"\\ncomparing grids:\")\n",
    "ref_img = nb.load(atlas_files.pop())\n",
    "\n",
    "for try_file in atlas_files:\n",
    "    try_img = nb.load(try_file)\n",
    "    if not np.allclose(try_img.affine, ref_img.affine):\n",
    "        raise Exception('incompatible affines:', try_img, try_img.affine, ref_img.affine)\n",
    "    if not try_img.shape == ref_img.shape:\n",
    "        raise Exception('incompatible shapes:', try_img, try_img.shape, ref_img.shape)\n",
    "print(\"All grids match orientation and shape!!\")"
   ]
  },
  {
   "cell_type": "markdown",
   "id": "d821260a",
   "metadata": {},
   "source": [
    "## How are atlases currently represented\n",
    "\n",
    "The tarball containing the atlas images also contains `atlas_config.json`"
   ]
  },
  {
   "cell_type": "code",
   "execution_count": 6,
   "id": "a59db43d",
   "metadata": {},
   "outputs": [
    {
     "name": "stdout",
     "output_type": "stream",
     "text": [
      "gordon333\n",
      "power264\n",
      "schaefer100\n",
      "schaefer200\n",
      "schaefer400\n",
      "aal116\n",
      "aicha384\n",
      "brainnetome246\n",
      "schaefer100x7\n",
      "schaefer100x17\n",
      "schaefer200x7\n",
      "schaefer200x17\n",
      "schaefer400x7\n",
      "schaefer400x17\n"
     ]
    }
   ],
   "source": [
    "import json\n",
    "original_atlas_config_f = \"qsirecon_atlases/atlas_config.json\"\n",
    "with open(original_atlas_config_f, \"r\") as configf:\n",
    "    original_atlas_config = json.load(configf)\n",
    "\n",
    "print(\"\\n\".join(original_atlas_config.keys()))"
   ]
  },
  {
   "cell_type": "markdown",
   "id": "060258b1",
   "metadata": {},
   "source": [
    "Let's look at what one of these entries looks like:"
   ]
  },
  {
   "cell_type": "code",
   "execution_count": 7,
   "id": "ec9bfd0b",
   "metadata": {},
   "outputs": [
    {
     "name": "stdout",
     "output_type": "stream",
     "text": [
      "dict_keys(['file', 'node_names', 'node_ids'])\n",
      "['Precentral_L', 'Precentral_R', 'Frontal_Sup_L', 'Frontal_Sup_R', 'Frontal_Sup_Orb_L', 'Frontal_Sup_Orb_R', 'Frontal_Mid_L', 'Frontal_Mid_R', 'Frontal_Mid_Orb_L', 'Frontal_Mid_Orb_R']\n",
      "[2001, 2002, 2101, 2102, 2111, 2112, 2201, 2202, 2211, 2212]\n",
      "aal116MNI_lps_mni.nii.gz\n"
     ]
    }
   ],
   "source": [
    "aal_config = original_atlas_config['aal116']\n",
    "print(aal_config.keys())\n",
    "print(aal_config['node_names'][:10])\n",
    "print(aal_config['node_ids'][:10])\n",
    "print(aal_config['file'])"
   ]
  },
  {
   "cell_type": "markdown",
   "id": "a81d0261",
   "metadata": {},
   "source": [
    "### The `'atlas'` key\n",
    "\n",
    "Each atlas has a key. In this case we looked at the `'aal116'` key. This is what you would put in the json file for your reconstruction workflow 's `\"atlases\"` field. For example you could see something like\n",
    "\n",
    "```json\n",
    "{\n",
    "  \"name\": \"my_custom_connectome_workflow\",\n",
    "  \"atlases\": [\"aal116\"],\n",
    "  ...\n",
    "}\n",
    "```\n",
    "\n",
    "### The `'node_ids'` and `'node_names'` entries\n",
    "\n",
    "These two lists are paired by index, such that `aal_config['node_ids'][i]` is the integer value of the ROI in the nifti file `aal_config['file']` and its description can be found in `aal_config['node_names'][i]`. In the case of the Schaefer atlas there are two possible names per node, so we'll add a second `'node_names'`.\n",
    "\n",
    "Here is a function that verifies that an atlas is completely specified:"
   ]
  },
  {
   "cell_type": "code",
   "execution_count": 8,
   "id": "3e9f54e4",
   "metadata": {},
   "outputs": [],
   "source": [
    "import numpy as np\n",
    "\n",
    "def verify_atlas(atlas_config, atlas_data):\n",
    "    data_regions = np.unique(atlas_data)\n",
    "    data_regions = data_regions[data_regions > 0].tolist()\n",
    "    for node_id, node_name in zip(atlas_config['node_ids'], atlas_config['node_names']):\n",
    "        if node_id not in data_regions:\n",
    "            raise Exception(\"%d: %s not in atlas data\" % (node_id, node_name))\n",
    "    \n",
    "    if not len(atlas_config['node_ids']) == len(atlas_config['node_names']):\n",
    "        raise Exception(\"Inconsistent number of node names and ids\")\n",
    "    \n",
    "    missing_regions = set(atlas_config['node_ids']).difference(data_regions)\n",
    "    if  missing_regions:\n",
    "        raise Exception(\"%s present in data but not in labels\" % str(missing_regions))"
   ]
  },
  {
   "cell_type": "markdown",
   "id": "e2cc440d",
   "metadata": {},
   "source": [
    "## Preparing the subcortical atlases\n",
    "\n",
    "### CIT168\n",
    "\n",
    "There are a couple problems with this atlas for our purposes\n",
    "  \n",
    "  1. The ROIs are not separated into Left and Right hemisphere\n",
    "  2. Regions 7, 10 and 11 are not likely to survive resampling\n",
    "  3. There is no thalamus or hippocampus\n",
    "  4. Region 15 is likely to be outside of any brain mask\n",
    "\n",
    "We need to get these into shape so we can add them to the other atlases. In particular the subcortical atlas is a little weird. We need to split it into left and right hemispheres."
   ]
  },
  {
   "cell_type": "code",
   "execution_count": 9,
   "id": "17fcccc8",
   "metadata": {},
   "outputs": [],
   "source": [
    "# Do CIT168\n",
    "cit168_subcortical = {\n",
    "    \"node_names\": [],\n",
    "    \"node_ids\": []\n",
    "}\n",
    "\n",
    "with open(\"data/2009cAsym/CIT168labels.txt\") as f:\n",
    "    for line in f:\n",
    "        node_id, node_name = line.strip().split(\",\")\n",
    "        cit168_subcortical['node_names'].append(\"CIT168Subcortical_\" + node_name)\n",
    "        cit168_subcortical['node_ids'].append(int(node_id)+1) # they started at 0, wtf\n",
    "\n",
    "cit168_data = nb.load(\n",
    "    \"data/2009cAsym/tpl-MNI152NLin2009cAsym_res-01_atlas-CIT168_desc-LPS_dseg.nii.gz\"\n",
    ").get_fdata().astype(np.uint32)\n",
    "\n",
    "\n",
    "# Merge the smaller regions together\n",
    "cit_lut = {node_id: region_label for node_id, region_label in \n",
    "           zip(cit168_subcortical['node_ids'], \n",
    "               cit168_subcortical['node_names'])}\n",
    "cit168_data[cit168_data==10] = 7\n",
    "cit168_data[cit168_data==11] = 7\n",
    "cit_region7_label = \"_\".join([cit_lut[7], cit_lut[10], cit_lut[11]])\n",
    "cit_lut[7] = cit_region7_label\n",
    "del cit_lut[10], cit_lut[11]\n",
    "merged_cit_ids = sorted(cit_lut.keys())\n",
    "merged_cit_labels = [cit_lut[node_id] for node_id in merged_cit_ids]\n",
    "merged_cit_config = {\"node_ids\": merged_cit_ids, \"node_names\":merged_cit_labels}\n",
    "verify_atlas(merged_cit_config, cit168_data)\n",
    "\n",
    "# Add 100 to the LH regions to separate them\n",
    "offsetmask = np.zeros_like(cit168_data)\n",
    "midvoxel = offsetmask.shape[0] // 2\n",
    "offsetmask[midvoxel:, :, :] = 100\n",
    "hemi_cit_data = (cit168_data + offsetmask) * (cit168_data > 0)\n",
    "\n",
    "# Split regions into hemispheres\n",
    "cit_hemi_labels = [name + \"_rh\" for name in merged_cit_labels] + \\\n",
    "             [name + \"_lh\" for name in merged_cit_labels]\n",
    "cit_hemi_ids = merged_cit_ids + [_id + 100 for _id in merged_cit_ids]\n",
    "cit_hemi_config = {\n",
    "    \"node_ids\": cit_hemi_ids,\n",
    "    \"node_names\": cit_hemi_labels\n",
    "}\n",
    "verify_atlas(cit_hemi_config, hemi_cit_data)\n"
   ]
  },
  {
   "cell_type": "markdown",
   "id": "5b16fadc",
   "metadata": {},
   "source": [
    "### Thalamic segmentation\n",
    "\n",
    "This segmentation redoes the thalamus tractography parcellation with better data. It is also much better masked on the thalamus than other atlases\n",
    "  \n",
    "  \n"
   ]
  },
  {
   "cell_type": "code",
   "execution_count": 10,
   "id": "392ea35f",
   "metadata": {},
   "outputs": [],
   "source": [
    "# Do Thalamus\n",
    "\n",
    "thalamus_atlas = {\n",
    "    \"node_names\": [],\n",
    "    \"node_ids\": []\n",
    "}\n",
    "\n",
    "with open(\"data/2009cAsym/Thalamic_Nuclei-labels.txt\") as f:\n",
    "    for line in f:\n",
    "        node_id, node_name = line.strip().split(\",\")\n",
    "        thalamus_atlas['node_names'].append(\"Thalamus_\" + node_name)\n",
    "        thalamus_atlas['node_ids'].append(int(node_id))\n",
    "\n",
    "thalamus_data = nb.load(\n",
    "    \"data/2009cAsym/tpl-MNI152NLin2009cAsym_res-01_atlas-ThalamusHCP_desc-LPS_dseg.nii.gz\"\n",
    ").get_fdata().astype(np.uint32)\n",
    "\n",
    "# Check it\n",
    "verify_atlas(thalamus_atlas, thalamus_data)"
   ]
  },
  {
   "cell_type": "markdown",
   "id": "d91acb8e",
   "metadata": {},
   "source": [
    "### The king cerebellum atlas\n",
    "\n",
    "This one has just cerebellum labels"
   ]
  },
  {
   "cell_type": "code",
   "execution_count": 11,
   "id": "e0d70bd1",
   "metadata": {},
   "outputs": [],
   "source": [
    "# Now the cerebellum atlas\n",
    "king_cerebellum = {\n",
    "    \"node_names\": [],\n",
    "    \"node_ids\": [] \n",
    "}\n",
    "\n",
    "with open(\"data/2009cAsym/cerebellum_regions.tsv\") as f:\n",
    "    for line in f:\n",
    "        node_id, node_name, color = line.strip().split()\n",
    "        king_cerebellum['node_names'].append(\"Cerebellum_\" + node_name)\n",
    "        king_cerebellum['node_ids'].append(int(node_id))\n",
    "king_cb_data = nb.load(\n",
    "    \"data/2009cAsym/tpl-MNI152NLin2009cAsym_res-01_atlas-MDTB10_desc-LPS_dseg.nii.gz\"\n",
    ").get_fdata().astype(np.uint32)\n",
    "\n",
    "# Check this too\n",
    "verify_atlas(king_cerebellum, king_cb_data)"
   ]
  },
  {
   "cell_type": "markdown",
   "id": "2608b3dd",
   "metadata": {},
   "source": [
    "## Combining the atlases\n",
    "\n",
    "We need to add the cerebellum, thalamus and subcortical regions into a single atlas. Below are some functions that help us add one atlas into another. We'll add these three together and then add them to all the other atlases that don't have any subcortical regions"
   ]
  },
  {
   "cell_type": "code",
   "execution_count": 12,
   "id": "59ded996",
   "metadata": {},
   "outputs": [],
   "source": [
    "from copy import deepcopy\n",
    "from scipy.stats import mode\n",
    "\n",
    "def match_partitions(data1, data2):\n",
    "    \"\"\"Match the regions in data1 to the regions in data2\"\"\"\n",
    "    \n",
    "    data1_ids = np.unique(data1)\n",
    "    data1_ids = data1_ids[data1_ids > 0].tolist()\n",
    "    data2_ids = np.unique(data2)\n",
    "    data2_ids = data2_ids[data2_ids > 0].tolist()\n",
    "    \n",
    "    mapping = {}\n",
    "    for data1_id in data1_ids:\n",
    "        region_mask = data1 == data1_id\n",
    "        mapping[data1_id], = mode(data2[region_mask]).mode\n",
    "    \n",
    "    \n",
    "    return mapping\n",
    "\n",
    "def remap_values(original_data, mapping):\n",
    "    remapped = np.zeros_like(original_data)\n",
    "    for old_value, new_value in mapping.items():\n",
    "        remapped[original_data==old_value] = new_value\n",
    "    return remapped\n"
   ]
  },
  {
   "cell_type": "markdown",
   "id": "322473cb",
   "metadata": {},
   "source": [
    "Testing this code, let's use the cit168 atlas as the base and make sure these functions do what we think they do"
   ]
  },
  {
   "cell_type": "code",
   "execution_count": 13,
   "id": "c9f49d08",
   "metadata": {},
   "outputs": [
    {
     "name": "stdout",
     "output_type": "stream",
     "text": [
      "atlas mapping:\n",
      "(1, 1)  (2, 2)  (3, 3)  (4, 4)  (5, 5)  (6, 6)  (7, 7)  (8, 8)  (9, 9)  (12, 10)  (13, 11)  (14, 12)  (15, 13)  (16, 14)  (101, 15)  (102, 16)  (103, 17)  (104, 18)  (105, 19)  (106, 20)  (107, 21)  (108, 22)  (109, 23)  (112, 24)  (113, 25)  (114, 26)  (115, 27)  (116, 28)\n",
      "matched labels:\n",
      "(1, 1)  (2, 2)  (3, 3)  (4, 4)  (5, 5)  (6, 6)  (7, 7)  (8, 8)  (9, 9)  (12, 10)  (13, 11)  (14, 12)  (15, 13)  (16, 14)  (101, 15)  (102, 16)  (103, 17)  (104, 18)  (105, 19)  (106, 20)  (107, 21)  (108, 22)  (109, 23)  (112, 24)  (113, 25)  (114, 26)  (115, 27)  (116, 28)\n"
     ]
    }
   ],
   "source": [
    "# This simulates re-numbering the \n",
    "new_atlas_config = cit_hemi_config\n",
    "new_atlas_mapping = {old_value: new_value for old_value, new_value in \n",
    "                    zip(new_atlas_config['node_ids'],\n",
    "                        np.argsort(new_atlas_config['node_ids'])+1)}\n",
    "\n",
    "print(\"atlas mapping:\")\n",
    "print(*sorted(new_atlas_mapping.items()), sep='  ')\n",
    "\n",
    "remapped_atlas = remap_values(hemi_cit_data, new_atlas_mapping)\n",
    "print(\"matched labels:\" )\n",
    "print(*sorted(match_partitions(hemi_cit_data, remapped_atlas).items()), sep='  ')"
   ]
  },
  {
   "cell_type": "markdown",
   "id": "afe27977",
   "metadata": {},
   "source": [
    "It works!! Now we can start adding these atlases to one another.\n",
    "\n"
   ]
  },
  {
   "cell_type": "code",
   "execution_count": 14,
   "id": "45bcbae6",
   "metadata": {},
   "outputs": [],
   "source": [
    "def add_atlas_to_another(atlas1_config, atlas1_data, \n",
    "                         atlas2_config, atlas2_data):\n",
    "    \"\"\"\n",
    "    Add atlas2 into atlas1. Ensure the labels are updated\n",
    "    so there is no overlap \n",
    "    \"\"\"\n",
    "\n",
    "    # Verify inputs\n",
    "    verify_atlas(atlas1_config, atlas1_data)\n",
    "    verify_atlas(atlas2_config, atlas2_data)\n",
    "    atlas2_data = atlas2_data.copy()\n",
    "\n",
    "    # What is the largest number in atlas1? This will be the minimum\n",
    "    # value in the new ids for atlas2 after it's been added to atlas1\n",
    "    merged_atlas_min = np.max(atlas1_data) + 2\n",
    "    atlas2_id_mapping = dict(\n",
    "        zip(atlas2_config['node_ids'],\n",
    "            np.argsort(atlas2_config['node_ids']) + merged_atlas_min))\n",
    "    atlas2_merged_ids = [atlas2_id_mapping[node_id] for node_id in\n",
    "                         atlas2_config['node_ids']]\n",
    "\n",
    "    # Make sure that any voxels that are labeled in the base image \n",
    "    # are NOT overwritten by the new atlas data\n",
    "    atlas2_data[atlas1_data > 0] = 0\n",
    "\n",
    "    # Ensure that we have not clobbered any regions by doing so\n",
    "    verify_atlas(atlas2_config, atlas2_data)\n",
    "\n",
    "    # Change their node ids so they don't conflict with the base\n",
    "    remapped_atlas2 = remap_values(atlas2_data, atlas2_id_mapping)\n",
    "\n",
    "    merged_image_data = atlas1_data + remapped_atlas2\n",
    "    merged_image_labels = atlas1_config['node_names'] + \\\n",
    "                          atlas2_config['node_names']\n",
    "    merged_image_ids = atlas1_config['node_ids'] + atlas2_merged_ids\n",
    "    merged_atlas_config = {\"node_names\": merged_image_labels,\n",
    "                           \"node_ids\": merged_image_ids}\n",
    "    verify_atlas(merged_atlas_config, merged_image_data)\n",
    "    return merged_atlas_config, merged_image_data\n",
    "\n"
   ]
  },
  {
   "cell_type": "markdown",
   "id": "ccef3365",
   "metadata": {},
   "source": [
    "### Creating the full subcortical atlas\n",
    "\n",
    "Here we merge the three subcortical atlases"
   ]
  },
  {
   "cell_type": "code",
   "execution_count": 15,
   "id": "3d250dca",
   "metadata": {},
   "outputs": [],
   "source": [
    "thalamus_and_cit_config, thalamus_and_cit_data = add_atlas_to_another(\n",
    "    cit_hemi_config, hemi_cit_data,\n",
    "    thalamus_atlas, thalamus_data,\n",
    ")\n",
    "\n",
    "full_subcortical_config, full_subcortical_data = add_atlas_to_another(\n",
    "    thalamus_and_cit_config, thalamus_and_cit_data,\n",
    "    king_cerebellum, king_cb_data\n",
    ")\n",
    "\n",
    "subcortical_img = nb.Nifti1Image(full_subcortical_data, \n",
    "                                 ref_img.affine, \n",
    "                                 header=ref_img.header)\n",
    "subcortical_img.to_filename(\"subcortical_regions.nii.gz\")"
   ]
  },
  {
   "cell_type": "markdown",
   "id": "c584a45c",
   "metadata": {},
   "source": [
    "## Add the subcortical atlas to cortical parcellations\n",
    "\n",
    "Now we can add these to the cortical atlases that are missing subcortical regions."
   ]
  },
  {
   "cell_type": "code",
   "execution_count": 16,
   "id": "3d575768",
   "metadata": {},
   "outputs": [],
   "source": [
    "import os\n",
    "os.makedirs(\"verified_atlases\", exist_ok=True)\n",
    "def save_data(data_matrix, fname):\n",
    "    img = nb.Nifti1Image(data_matrix, \n",
    "                         ref_img.affine, \n",
    "                         header=ref_img.header)\n",
    "    img.to_filename(\"verified_atlases/\" + fname)\n",
    "\n",
    "# The new atlas_config.json\n",
    "final_config = {}\n",
    "\n",
    "# schaefer100\n",
    "schaefer100x7_config = original_atlas_config['schaefer100x7']\n",
    "schaefer100x7_file = 'data/2009cAsym/tpl-MNI152NLin2009cAsym_res-01_atlas-Schaefer2018_desc-100Parcels7NetworksLPS_dseg.nii.gz'\n",
    "schaefer100x7_data = nb.load(schaefer100x7_file).get_fdata().astype(np.uint32)\n",
    "verify_atlas(schaefer100x7_config, schaefer100x7_data)\n",
    "schaefer100x7_sc_config, schaefer100x7_sc_data = add_atlas_to_another(\n",
    "    schaefer100x7_config, schaefer100x7_data,\n",
    "    full_subcortical_config, full_subcortical_data)\n",
    "schaefer100x7_sc_file = 'tpl-MNI152NLin2009cAsym_res-01_atlas-Schaefer2018Ext_desc-100Parcels7NetworksLPS_dseg.nii.gz'\n",
    "schaefer100x7_sc_config['file'] = schaefer100x7_sc_file\n",
    "save_data(schaefer100x7_sc_data, schaefer100x7_sc_file)\n",
    "final_config['schaefer100'] = schaefer100x7_sc_config\n",
    "\n",
    "# Schaefer200\n",
    "schaefer200x7_config = original_atlas_config['schaefer200x7']\n",
    "schaefer200x7_file = 'data/2009cAsym/tpl-MNI152NLin2009cAsym_res-01_atlas-Schaefer2018_desc-200Parcels7NetworksLPS_dseg.nii.gz'\n",
    "schaefer200x7_data = nb.load(schaefer200x7_file).get_fdata().astype(np.uint32)\n",
    "verify_atlas(schaefer200x7_config, schaefer200x7_data)\n",
    "schaefer200x7_sc_config, schaefer200x7_sc_data = add_atlas_to_another(\n",
    "    schaefer200x7_config, schaefer200x7_data,\n",
    "    full_subcortical_config, full_subcortical_data)\n",
    "schaefer200x7_sc_file = 'tpl-MNI152NLin2009cAsym_res-01_atlas-Schaefer2018Ext_desc-200Parcels7NetworksLPS_dseg.nii.gz'\n",
    "schaefer200x7_sc_config['file'] = schaefer200x7_sc_file\n",
    "save_data(schaefer200x7_sc_data, schaefer200x7_sc_file)\n",
    "final_config['schaefer200'] = schaefer200x7_sc_config\n",
    "\n",
    "# Schaefer400\n",
    "schaefer400x7_config = original_atlas_config['schaefer400x7']\n",
    "schaefer400x7_file = 'data/2009cAsym/tpl-MNI152NLin2009cAsym_res-01_atlas-Schaefer2018_desc-400Parcels7NetworksLPS_dseg.nii.gz'\n",
    "schaefer400x7_data = nb.load(schaefer400x7_file).get_fdata().astype(np.uint32)\n",
    "verify_atlas(schaefer400x7_config, schaefer400x7_data)\n",
    "schaefer400x7_sc_config, schaefer400x7_sc_data = add_atlas_to_another(\n",
    "    schaefer400x7_config, schaefer400x7_data,\n",
    "    full_subcortical_config, full_subcortical_data)\n",
    "schaefer400x7_sc_file = 'tpl-MNI152NLin2009cAsym_res-01_atlas-Schaefer2018Ext_desc-400Parcels7NetworksLPS_dseg.nii.gz'\n",
    "schaefer400x7_sc_config['file'] = schaefer400x7_sc_file\n",
    "save_data(schaefer400x7_sc_data, schaefer400x7_sc_file)\n",
    "final_config['schaefer400'] = schaefer400x7_sc_config"
   ]
  },
  {
   "cell_type": "code",
   "execution_count": 17,
   "id": "f6040588",
   "metadata": {},
   "outputs": [],
   "source": [
    "# Gordon333\n",
    "Gordon333_config = original_atlas_config['gordon333']\n",
    "Gordon333_file = 'data/2009cAsym/tpl-MNI152NLin2009cAsym_res-01_atlas-Gordon333_desc-LPS_dseg.nii.gz'\n",
    "Gordon333_data = nb.load(Gordon333_file).get_fdata().astype(np.uint32)\n",
    "verify_atlas(Gordon333_config, Gordon333_data)\n",
    "Gordon333_sc_config, Gordon333_sc_data = add_atlas_to_another(\n",
    "    Gordon333_config, Gordon333_data,\n",
    "    full_subcortical_config, full_subcortical_data)\n",
    "Gordon333_sc_file = 'tpl-MNI152NLin2009cAsym_res-01_atlas-Gordon333Ext_desc-LPS_dseg.nii.gz'\n",
    "Gordon333_sc_config['file'] = Gordon333_sc_file\n",
    "save_data(Gordon333_sc_data, Gordon333_sc_file)\n",
    "final_config['gordon333'] = Gordon333_sc_config"
   ]
  },
  {
   "cell_type": "code",
   "execution_count": 18,
   "id": "24895d4a",
   "metadata": {},
   "outputs": [],
   "source": [
    "# Add cb to aicha\n",
    "aicha384_config = original_atlas_config['aicha384']\n",
    "aicha384_file = 'data/2009cAsym/tpl-MNI152NLin2009cAsym_res-01_atlas-AICHA384_desc-LPS_dseg.nii.gz'\n",
    "aicha384_data = nb.load(aicha384_file).get_fdata().astype(np.uint32)\n",
    "verify_atlas(aicha384_config, aicha384_data)\n",
    "\n",
    "aicha384_sc_config, aicha384_sc_data = add_atlas_to_another(\n",
    "    aicha384_config, aicha384_data,\n",
    "    king_cerebellum, king_cb_data)\n",
    "\n",
    "aicha384_sc_file = 'tpl-MNI152NLin2009cAsym_res-01_atlas-AICHA384Ext_desc-LPS_dseg.nii.gz'\n",
    "aicha384_sc_config['file'] = aicha384_sc_file\n",
    "save_data(aicha384_sc_data, aicha384_sc_file)\n",
    "final_config['aicha384'] = aicha384_sc_config"
   ]
  },
  {
   "cell_type": "code",
   "execution_count": 19,
   "id": "5dd9f5fd",
   "metadata": {},
   "outputs": [],
   "source": [
    "# Add cb to brainnetome\n",
    "brainnetome246_config = original_atlas_config['brainnetome246']\n",
    "brainnetome246_file = 'data/2009cAsym/tpl-MNI152NLin2009cAsym_res-01_atlas-Brainnetome246_desc-LPS_dseg.nii.gz'\n",
    "brainnetome246_data = nb.load(brainnetome246_file).get_fdata().astype(np.uint32)\n",
    "brainnetome246_sc_config, brainnetome246_sc_data = add_atlas_to_another(\n",
    "    brainnetome246_config, brainnetome246_data,\n",
    "    king_cerebellum, king_cb_data)\n",
    "\n",
    "brainnetome246_sc_file = 'tpl-MNI152NLin2009cAsym_res-01_atlas-Brainnetome246Ext_desc-LPS_dseg.nii.gz'\n",
    "brainnetome246_sc_config['file'] = brainnetome246_sc_file\n",
    "save_data(brainnetome246_sc_data, brainnetome246_sc_file)\n",
    "final_config['brainnetome246'] = brainnetome246_sc_config"
   ]
  },
  {
   "cell_type": "code",
   "execution_count": 20,
   "id": "1e826098",
   "metadata": {},
   "outputs": [],
   "source": [
    "# AAL is it's own whole thing, just copy it over\n",
    "\n",
    "aal116_config = original_atlas_config['aal116']\n",
    "aal116_file = 'data/2009cAsym/tpl-MNI152NLin2009cAsym_res-01_atlas-AAL116_desc-LPS_dseg.nii.gz'\n",
    "aal116_data = nb.load(aal116_file).get_fdata().astype(np.uint32)\n",
    "verify_atlas(aal116_config, aal116_data)\n",
    "\n",
    "aal116_sc_file = 'tpl-MNI152NLin2009cAsym_res-01_atlas-AAL116_desc-LPS_dseg.nii.gz'\n",
    "aal116_config['file'] = aal116_sc_file\n",
    "save_data(aal116_data, aal116_sc_file)\n",
    "final_config['aal116'] = aal116_config\n",
    "\n",
    "\n",
    "os.chdir(\"verified_atlases\")"
   ]
  },
  {
   "cell_type": "code",
   "execution_count": 21,
   "id": "23f0e29d",
   "metadata": {},
   "outputs": [
    {
     "name": "stdout",
     "output_type": "stream",
     "text": [
      "Verified schaefer100\n",
      "Verified schaefer200\n",
      "Verified schaefer400\n",
      "Verified gordon333\n",
      "Verified aicha384\n",
      "Verified brainnetome246\n",
      "Verified aal116\n"
     ]
    }
   ],
   "source": [
    "\n",
    "for config in final_config:\n",
    "    data = nb.load(final_config[config]['file']).get_fdata().astype(np.uint32)\n",
    "    verify_atlas(final_config[config], data)\n",
    "    print(\"Verified\", config)"
   ]
  },
  {
   "cell_type": "code",
   "execution_count": 22,
   "id": "45451073",
   "metadata": {},
   "outputs": [],
   "source": [
    "for key in final_config:\n",
    "    final_config[key]['node_ids'] = list(map(int, final_config[key]['node_ids']))\n",
    "\n",
    "with open('atlas_config.json', 'w') as f:\n",
    "    json.dump(final_config, f, indent=4)"
   ]
  },
  {
   "cell_type": "code",
   "execution_count": 23,
   "id": "98fcb090",
   "metadata": {},
   "outputs": [
    {
     "name": "stderr",
     "output_type": "stream",
     "text": [
      "a qsirecon_atlases\n",
      "a qsirecon_atlases/tpl-MNI152NLin2009cAsym_res-01_atlas-AAL116_desc-LPS_dseg.nii.gz\n",
      "a qsirecon_atlases/tpl-MNI152NLin2009cAsym_res-01_atlas-Gordon333Ext_desc-LPS_dseg.nii.gz\n",
      "a qsirecon_atlases/tpl-MNI152NLin2009cAsym_res-01_atlas-AICHA384Ext_desc-LPS_dseg.nii.gz\n",
      "a qsirecon_atlases/tpl-MNI152NLin2009cAsym_res-01_atlas-Schaefer2018Ext_desc-400Parcels7NetworksLPS_dseg.nii.gz\n",
      "a qsirecon_atlases/tpl-MNI152NLin2009cAsym_res-01_atlas-Schaefer2018Ext_desc-200Parcels7NetworksLPS_dseg.nii.gz\n",
      "a qsirecon_atlases/atlas_config.json\n",
      "a qsirecon_atlases/tpl-MNI152NLin2009cAsym_res-01_atlas-Schaefer2018Ext_desc-100Parcels7NetworksLPS_dseg.nii.gz\n",
      "a qsirecon_atlases/tpl-MNI152NLin2009cAsym_res-01_atlas-Brainnetome246Ext_desc-LPS_dseg.nii.gz\n"
     ]
    }
   ],
   "source": [
    "%%bash\n",
    "\n",
    "cd ..\n",
    "mkdir tmp\n",
    "mv verified_atlases tmp/qsirecon_atlases\n",
    "cd tmp\n",
    "tar cvfJ qsiprep-atlases1.3.tar.xz qsirecon_atlases\n",
    "mv qsiprep-atlases1.3.tar.xz ../\n",
    "cd ..\n",
    "rm -rf tmp"
   ]
  }
 ],
 "metadata": {
  "kernelspec": {
   "display_name": "Python 3 (ipykernel)",
   "language": "python",
   "name": "python3"
  },
  "language_info": {
   "codemirror_mode": {
    "name": "ipython",
    "version": 3
   },
   "file_extension": ".py",
   "mimetype": "text/x-python",
   "name": "python",
   "nbconvert_exporter": "python",
   "pygments_lexer": "ipython3",
   "version": "3.8.12"
  }
 },
 "nbformat": 4,
 "nbformat_minor": 5
}
